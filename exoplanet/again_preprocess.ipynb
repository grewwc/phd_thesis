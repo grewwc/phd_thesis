{
 "cells": [
  {
   "cell_type": "code",
   "execution_count": 70,
   "metadata": {},
   "outputs": [],
   "source": [
    "from preprocess.kepler_io import *\n",
    "import matplotlib.pyplot as plt \n",
    "import pandas as pd \n",
    "pd.set_option('display.max_columns', None)\n",
    "pd.set_option('display.max_rows', None)\n",
    "import os"
   ]
  },
  {
   "cell_type": "code",
   "execution_count": 2,
   "metadata": {},
   "outputs": [],
   "source": [
    "%load_ext autoreload\n",
    "%autoreload 2"
   ]
  },
  {
   "cell_type": "code",
   "execution_count": 69,
   "metadata": {},
   "outputs": [],
   "source": [
    "csv_filename = f\"C:/Users/User/dev/data/{csv_name}\"\n",
    "img_dir = \"C:/Users/User/Desktop/images\""
   ]
  },
  {
   "cell_type": "code",
   "execution_count": 12,
   "metadata": {},
   "outputs": [],
   "source": [
    "def __get_multiple_items_from_csv_by_IDs(kepids, item_names):\n",
    "    # assert isinstance(item_names, list), \\\n",
    "    #     \"second arguments should be list\"\n",
    "    global df\n",
    "    if df is None:\n",
    "        csv_path = os.path.join(csv_folder, csv_name_drop_unk)\n",
    "        df = pd.read_csv(csv_path, comment=\"#\")\n",
    "    if not isinstance(kepids, list):\n",
    "        kepids = [kepids]\n",
    "    res = []\n",
    "    for item_name in item_names:\n",
    "        # assert item_name in df.columns, f\"{csv_path} don't have '{item_name}'\"\n",
    "        res_each_item = {}\n",
    "        for id_ in kepids:\n",
    "            int_id = int(id_)\n",
    "            target = df[df['kepid'] == int_id]\n",
    "\n",
    "            training_set = target['av_training_set']\n",
    "            target_is_pc = target[training_set == 'PC']\n",
    "            target_non_pc = target[training_set != 'PC']\n",
    "\n",
    "            pc_items = zip(repeat('1', len(target_is_pc)),\n",
    "                           target_is_pc[item_name])\n",
    "            non_pc_items = zip(repeat('0', len(target_non_pc)),\n",
    "                               target_non_pc[item_name])\n",
    "            res_each_item[f'{int_id:09d}'] = list(\n",
    "                chain(pc_items, non_pc_items))\n",
    "        res.append(res_each_item)\n",
    "    return res"
   ]
  },
  {
   "cell_type": "code",
   "execution_count": 14,
   "metadata": {},
   "outputs": [],
   "source": [
    "periods, durations, first_epochs = __get_multiple_items_from_csv_by_IDs(1162345, ['tce_period', 'tce_duration', 'tce_time0bk'])"
   ]
  },
  {
   "cell_type": "code",
   "execution_count": 19,
   "metadata": {},
   "outputs": [
    {
     "name": "stdout",
     "output_type": "stream",
     "text": [
      "{'001162345': [('0', 0.83185), ('0', 0.831833), ('0', 0.831777)]}\n",
      "{'001162345': [('0', 2.392), ('0', 2.181), ('0', 2.349)]}\n",
      "{'001162345': [('0', 132.227), ('0', 131.91899999999998), ('0', 131.69799999999998)]}\n"
     ]
    }
   ],
   "source": [
    "print(periods)\n",
    "print(durations)\n",
    "print(first_epochs)"
   ]
  },
  {
   "cell_type": "code",
   "execution_count": 77,
   "metadata": {},
   "outputs": [
    {
     "data": {
      "text/plain": [
       "(12516.59606603808, 2322000.0, 125.5)"
      ]
     },
     "execution_count": 77,
     "metadata": {},
     "output_type": "execute_result"
    }
   ],
   "source": [
    "depth.mean(), depth.max(), np.median(depth)"
   ]
  },
  {
   "cell_type": "code",
   "execution_count": 101,
   "metadata": {},
   "outputs": [
    {
     "data": {
      "text/html": [
       "<div>\n",
       "<style scoped>\n",
       "    .dataframe tbody tr th:only-of-type {\n",
       "        vertical-align: middle;\n",
       "    }\n",
       "\n",
       "    .dataframe tbody tr th {\n",
       "        vertical-align: top;\n",
       "    }\n",
       "\n",
       "    .dataframe thead th {\n",
       "        text-align: right;\n",
       "    }\n",
       "</style>\n",
       "<table border=\"1\" class=\"dataframe\">\n",
       "  <thead>\n",
       "    <tr style=\"text-align: right;\">\n",
       "      <th></th>\n",
       "      <th>kepid</th>\n",
       "      <th>tce_plnt_num</th>\n",
       "      <th>tce_rogue_flag</th>\n",
       "      <th>tce_period</th>\n",
       "      <th>tce_period_err</th>\n",
       "      <th>tce_time0bk</th>\n",
       "      <th>tce_time0bk_err</th>\n",
       "      <th>tce_impact</th>\n",
       "      <th>tce_impact_err</th>\n",
       "      <th>tce_duration</th>\n",
       "      <th>tce_duration_err</th>\n",
       "      <th>tce_depth</th>\n",
       "      <th>tce_depth_err</th>\n",
       "      <th>tce_model_snr</th>\n",
       "      <th>tce_prad</th>\n",
       "      <th>tce_prad_err</th>\n",
       "      <th>tce_eqt</th>\n",
       "      <th>tce_eqt_err</th>\n",
       "      <th>tce_insol</th>\n",
       "      <th>tce_insol_err</th>\n",
       "      <th>tce_steff</th>\n",
       "      <th>tce_steff_err</th>\n",
       "      <th>tce_slogg</th>\n",
       "      <th>tce_slogg_err</th>\n",
       "      <th>tce_sradius</th>\n",
       "      <th>tce_sradius_err</th>\n",
       "      <th>av_training_set</th>\n",
       "    </tr>\n",
       "  </thead>\n",
       "  <tbody>\n",
       "    <tr>\n",
       "      <th>0</th>\n",
       "      <td>1162345</td>\n",
       "      <td>2</td>\n",
       "      <td>NaN</td>\n",
       "      <td>0.831850</td>\n",
       "      <td>0.000067</td>\n",
       "      <td>132.227</td>\n",
       "      <td>0.035197</td>\n",
       "      <td>0.92600</td>\n",
       "      <td>1.471</td>\n",
       "      <td>2.392</td>\n",
       "      <td>21.0000</td>\n",
       "      <td>6.092</td>\n",
       "      <td>2.636</td>\n",
       "      <td>2.950</td>\n",
       "      <td>0.5099</td>\n",
       "      <td>0.7944</td>\n",
       "      <td>2760.0</td>\n",
       "      <td>637.0</td>\n",
       "      <td>NaN</td>\n",
       "      <td>NaN</td>\n",
       "      <td>6510.0</td>\n",
       "      <td>207.0</td>\n",
       "      <td>4.07</td>\n",
       "      <td>0.26</td>\n",
       "      <td>1.728</td>\n",
       "      <td>0.791</td>\n",
       "      <td>AFP</td>\n",
       "    </tr>\n",
       "    <tr>\n",
       "      <th>1</th>\n",
       "      <td>1292087</td>\n",
       "      <td>2</td>\n",
       "      <td>NaN</td>\n",
       "      <td>1.095240</td>\n",
       "      <td>0.000010</td>\n",
       "      <td>132.133</td>\n",
       "      <td>0.002685</td>\n",
       "      <td>0.25630</td>\n",
       "      <td>13.310</td>\n",
       "      <td>2.122</td>\n",
       "      <td>0.4755</td>\n",
       "      <td>34.530</td>\n",
       "      <td>4.427</td>\n",
       "      <td>10.600</td>\n",
       "      <td>0.8916</td>\n",
       "      <td>0.6361</td>\n",
       "      <td>2310.0</td>\n",
       "      <td>661.0</td>\n",
       "      <td>NaN</td>\n",
       "      <td>NaN</td>\n",
       "      <td>6328.0</td>\n",
       "      <td>207.0</td>\n",
       "      <td>4.15</td>\n",
       "      <td>0.29</td>\n",
       "      <td>1.502</td>\n",
       "      <td>0.852</td>\n",
       "      <td>UNK</td>\n",
       "    </tr>\n",
       "    <tr>\n",
       "      <th>2</th>\n",
       "      <td>1293031</td>\n",
       "      <td>2</td>\n",
       "      <td>NaN</td>\n",
       "      <td>0.719273</td>\n",
       "      <td>0.000014</td>\n",
       "      <td>132.227</td>\n",
       "      <td>0.002786</td>\n",
       "      <td>0.70000</td>\n",
       "      <td>1.103</td>\n",
       "      <td>1.521</td>\n",
       "      <td>0.3183</td>\n",
       "      <td>29.680</td>\n",
       "      <td>5.248</td>\n",
       "      <td>8.302</td>\n",
       "      <td>1.4550</td>\n",
       "      <td>0.4296</td>\n",
       "      <td>3330.0</td>\n",
       "      <td>703.0</td>\n",
       "      <td>NaN</td>\n",
       "      <td>NaN</td>\n",
       "      <td>6363.0</td>\n",
       "      <td>214.0</td>\n",
       "      <td>3.80</td>\n",
       "      <td>0.35</td>\n",
       "      <td>2.489</td>\n",
       "      <td>1.036</td>\n",
       "      <td>UNK</td>\n",
       "    </tr>\n",
       "    <tr>\n",
       "      <th>3</th>\n",
       "      <td>1162345</td>\n",
       "      <td>3</td>\n",
       "      <td>NaN</td>\n",
       "      <td>0.831833</td>\n",
       "      <td>0.000009</td>\n",
       "      <td>131.919</td>\n",
       "      <td>0.002209</td>\n",
       "      <td>0.09536</td>\n",
       "      <td>51.770</td>\n",
       "      <td>2.181</td>\n",
       "      <td>1.2110</td>\n",
       "      <td>27.100</td>\n",
       "      <td>3.550</td>\n",
       "      <td>11.950</td>\n",
       "      <td>0.9062</td>\n",
       "      <td>0.8488</td>\n",
       "      <td>2760.0</td>\n",
       "      <td>637.0</td>\n",
       "      <td>NaN</td>\n",
       "      <td>NaN</td>\n",
       "      <td>6510.0</td>\n",
       "      <td>207.0</td>\n",
       "      <td>4.07</td>\n",
       "      <td>0.26</td>\n",
       "      <td>1.728</td>\n",
       "      <td>0.791</td>\n",
       "      <td>AFP</td>\n",
       "    </tr>\n",
       "    <tr>\n",
       "      <th>4</th>\n",
       "      <td>1164109</td>\n",
       "      <td>1</td>\n",
       "      <td>NaN</td>\n",
       "      <td>622.408000</td>\n",
       "      <td>0.008547</td>\n",
       "      <td>162.256</td>\n",
       "      <td>0.009840</td>\n",
       "      <td>0.00319</td>\n",
       "      <td>2193.000</td>\n",
       "      <td>12.010</td>\n",
       "      <td>1.8430</td>\n",
       "      <td>161.300</td>\n",
       "      <td>59.080</td>\n",
       "      <td>3.719</td>\n",
       "      <td>2.1140</td>\n",
       "      <td>2.5990</td>\n",
       "      <td>302.0</td>\n",
       "      <td>75.0</td>\n",
       "      <td>NaN</td>\n",
       "      <td>NaN</td>\n",
       "      <td>6609.0</td>\n",
       "      <td>200.0</td>\n",
       "      <td>4.11</td>\n",
       "      <td>0.28</td>\n",
       "      <td>1.654</td>\n",
       "      <td>0.816</td>\n",
       "      <td>UNK</td>\n",
       "    </tr>\n",
       "  </tbody>\n",
       "</table>\n",
       "</div>"
      ],
      "text/plain": [
       "     kepid  tce_plnt_num  tce_rogue_flag  tce_period  tce_period_err  \\\n",
       "0  1162345             2             NaN    0.831850        0.000067   \n",
       "1  1292087             2             NaN    1.095240        0.000010   \n",
       "2  1293031             2             NaN    0.719273        0.000014   \n",
       "3  1162345             3             NaN    0.831833        0.000009   \n",
       "4  1164109             1             NaN  622.408000        0.008547   \n",
       "\n",
       "   tce_time0bk  tce_time0bk_err  tce_impact  tce_impact_err  tce_duration  \\\n",
       "0      132.227         0.035197     0.92600           1.471         2.392   \n",
       "1      132.133         0.002685     0.25630          13.310         2.122   \n",
       "2      132.227         0.002786     0.70000           1.103         1.521   \n",
       "3      131.919         0.002209     0.09536          51.770         2.181   \n",
       "4      162.256         0.009840     0.00319        2193.000        12.010   \n",
       "\n",
       "   tce_duration_err  tce_depth  tce_depth_err  tce_model_snr  tce_prad  \\\n",
       "0           21.0000      6.092          2.636          2.950    0.5099   \n",
       "1            0.4755     34.530          4.427         10.600    0.8916   \n",
       "2            0.3183     29.680          5.248          8.302    1.4550   \n",
       "3            1.2110     27.100          3.550         11.950    0.9062   \n",
       "4            1.8430    161.300         59.080          3.719    2.1140   \n",
       "\n",
       "   tce_prad_err  tce_eqt  tce_eqt_err  tce_insol  tce_insol_err  tce_steff  \\\n",
       "0        0.7944   2760.0        637.0        NaN            NaN     6510.0   \n",
       "1        0.6361   2310.0        661.0        NaN            NaN     6328.0   \n",
       "2        0.4296   3330.0        703.0        NaN            NaN     6363.0   \n",
       "3        0.8488   2760.0        637.0        NaN            NaN     6510.0   \n",
       "4        2.5990    302.0         75.0        NaN            NaN     6609.0   \n",
       "\n",
       "   tce_steff_err  tce_slogg  tce_slogg_err  tce_sradius  tce_sradius_err  \\\n",
       "0          207.0       4.07           0.26        1.728            0.791   \n",
       "1          207.0       4.15           0.29        1.502            0.852   \n",
       "2          214.0       3.80           0.35        2.489            1.036   \n",
       "3          207.0       4.07           0.26        1.728            0.791   \n",
       "4          200.0       4.11           0.28        1.654            0.816   \n",
       "\n",
       "  av_training_set  \n",
       "0             AFP  \n",
       "1             UNK  \n",
       "2             UNK  \n",
       "3             AFP  \n",
       "4             UNK  "
      ]
     },
     "execution_count": 101,
     "metadata": {},
     "output_type": "execute_result"
    }
   ],
   "source": [
    "df = pd.read_csv(csv_filename, comment='#')\n",
    "df.head()"
   ]
  },
  {
   "cell_type": "code",
   "execution_count": 105,
   "metadata": {},
   "outputs": [
    {
     "data": {
      "text/plain": [
       "20367"
      ]
     },
     "execution_count": 105,
     "metadata": {},
     "output_type": "execute_result"
    }
   ],
   "source": [
    "len(df)"
   ]
  },
  {
   "cell_type": "code",
   "execution_count": 93,
   "metadata": {},
   "outputs": [
    {
     "data": {
      "image/png": "[encoded data removed]",
      "text/plain": [
       "<Figure size 432x288 with 1 Axes>"
      ]
     },
     "metadata": {
      "needs_background": "light"
     },
     "output_type": "display_data"
    }
   ],
   "source": [
    "plt.hist(df[df['tce_depth']<10000]['tce_depth'], bins=25)\n",
    "plt.ylabel('Count')\n",
    "plt.xlabel('TCE Depth (ppm)')\n",
    "plt.savefig(os.path.join(img_dir, 'tce_depth_hist.png'), dpi=200)"
   ]
  },
  {
   "cell_type": "code",
   "execution_count": 94,
   "metadata": {},
   "outputs": [
    {
     "data": {
      "text/plain": [
       "1831"
      ]
     },
     "execution_count": 94,
     "metadata": {},
     "output_type": "execute_result"
    }
   ],
   "source": [
    "sum(depth>10000)"
   ]
  },
  {
   "cell_type": "code",
   "execution_count": 72,
   "metadata": {},
   "outputs": [],
   "source": [
    "def pie_chart(data, mid_points=(0.25, 0.5, 0.75), fname=None):\n",
    "    parts = []\n",
    "    labels = []\n",
    "    interval = data.max() - data.min()\n",
    "    points = [data.min()+interval*point for point in mid_points]\n",
    "    eps = 1e-8\n",
    "    for i in range(len(points)+1):\n",
    "        lo = 0.0 if i == 0 else points[i-1]\n",
    "        hi = (1.0+eps) if i == len(points) else points[i]\n",
    "        part = len(data[(data>=lo) & (data<hi)]) / len(data)\n",
    "        parts.append(part)\n",
    "        if part < 0.05:\n",
    "            part = None\n",
    "            labels.append(part)\n",
    "        else:\n",
    "            labels.append(f'{part:.5f}')\n",
    "    plt.pie(parts, labels=labels)\n",
    "    if fname:\n",
    "        plt.savefig(fname, dpi=200)"
   ]
  },
  {
   "cell_type": "code",
   "execution_count": 73,
   "metadata": {},
   "outputs": [
    {
     "data": {
      "image/png": "[encoded data removed]",
      "text/plain": [
       "<Figure size 432x288 with 1 Axes>"
      ]
     },
     "metadata": {},
     "output_type": "display_data"
    }
   ],
   "source": [
    "pie_chart(depth, fname=os.path.join(img_dir, 'tce_depth_pie.png'))"
   ]
  },
  {
   "cell_type": "code",
   "execution_count": 5,
   "metadata": {},
   "outputs": [],
   "source": [
    "kepids = get_kepler_ids_from_csv()"
   ]
  },
  {
   "cell_type": "code",
   "execution_count": 6,
   "metadata": {},
   "outputs": [
    {
     "name": "stdout",
     "output_type": "stream",
     "text": [
      "[4390912, 10223616, 8388610, 5308419, 6946819, 9764868, 4587528, 6062088, 7503885, 6291473] 12669\n"
     ]
    }
   ],
   "source": [
    "print(kepids[:10], len(kepids))\n",
    "test_id = 4390912"
   ]
  },
  {
   "cell_type": "code",
   "execution_count": 7,
   "metadata": {},
   "outputs": [],
   "source": [
    "time, flux = get_time_flux_by_ID(4390912)"
   ]
  },
  {
   "cell_type": "code",
   "execution_count": 9,
   "metadata": {},
   "outputs": [
    {
     "name": "stdout",
     "output_type": "stream",
     "text": [
      "\r",
      " 100.00%"
     ]
    },
    {
     "data": {
      "text/plain": [
       "(None, None)"
      ]
     },
     "execution_count": 9,
     "metadata": {},
     "output_type": "execute_result"
    }
   ],
   "source": [
    "get_binned_normalized_flux_by_IDs(4390912)"
   ]
  },
  {
   "cell_type": "code",
   "execution_count": null,
   "metadata": {},
   "outputs": [],
   "source": []
  }
 ],
 "metadata": {
  "kernelspec": {
   "display_name": "Python 3",
   "language": "python",
   "name": "python3"
  },
  "language_info": {
   "codemirror_mode": {
    "name": "ipython",
    "version": 3
   },
   "file_extension": ".py",
   "mimetype": "text/x-python",
   "name": "python",
   "nbconvert_exporter": "python",
   "pygments_lexer": "ipython3",
   "version": "3.6.8"
  }
 },
 "nbformat": 4,
 "nbformat_minor": 2
}
